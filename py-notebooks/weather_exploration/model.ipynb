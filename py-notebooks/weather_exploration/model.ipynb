{
 "cells": [
  {
   "cell_type": "code",
   "id": "initial_id",
   "metadata": {
    "collapsed": true,
    "ExecuteTime": {
     "end_time": "2025-03-15T01:06:31.660312Z",
     "start_time": "2025-03-15T01:06:30.857429Z"
    }
   },
   "source": [
    "from src.datalake import Datalake\n",
    "import pandas as pd\n",
    "import geopandas as gpd\n",
    "import numpy as np\n",
    "import matplotlib.pyplot as plt\n",
    "\n",
    "import pyarrow.compute as pc"
   ],
   "outputs": [],
   "execution_count": 1
  },
  {
   "metadata": {
    "ExecuteTime": {
     "end_time": "2025-03-15T01:06:31.669928Z",
     "start_time": "2025-03-15T01:06:31.666819Z"
    }
   },
   "cell_type": "code",
   "source": "data = Datalake('../../data')",
   "id": "646e0786f6adfb66",
   "outputs": [],
   "execution_count": 2
  },
  {
   "metadata": {
    "ExecuteTime": {
     "end_time": "2025-03-15T01:06:31.696954Z",
     "start_time": "2025-03-15T01:06:31.672949Z"
    }
   },
   "cell_type": "code",
   "source": "states = data.query_states()",
   "id": "a9fdc7aae3705457",
   "outputs": [],
   "execution_count": 3
  },
  {
   "metadata": {
    "ExecuteTime": {
     "end_time": "2025-03-15T01:06:31.838006Z",
     "start_time": "2025-03-15T01:06:31.825564Z"
    }
   },
   "cell_type": "code",
   "source": [
    "states.sample(5)\n",
    "\n",
    "\n",
    "for i in range(data.years[0], data.years[1+1]):\n",
    "    query = (pc.field('year') == i)\n",
    "    weather = data.query_ghcnd(query)\n",
    "    # HEX HERE\n",
    "    hexed_weather.to_parquet()"
   ],
   "id": "7bc4eff0ecdfa308",
   "outputs": [
    {
     "data": {
      "text/plain": [
       "              name code                                           geometry\n",
       "0       New Mexico   NM  MULTIPOLYGON (((-109.05017 31.48, -109.04984 3...\n",
       "23  South Carolina   SC  MULTIPOLYGON (((-79.50795 33.02008, -79.50713 ...\n",
       "15         Indiana   IN  MULTIPOLYGON (((-88.09776 37.90403, -88.09448 ...\n",
       "2       California   CA  MULTIPOLYGON (((-118.60441 33.47855, -118.5987...\n",
       "44  North Carolina   NC  MULTIPOLYGON (((-75.72681 35.93584, -75.71827 ..."
      ],
      "text/html": [
       "<div>\n",
       "<style scoped>\n",
       "    .dataframe tbody tr th:only-of-type {\n",
       "        vertical-align: middle;\n",
       "    }\n",
       "\n",
       "    .dataframe tbody tr th {\n",
       "        vertical-align: top;\n",
       "    }\n",
       "\n",
       "    .dataframe thead th {\n",
       "        text-align: right;\n",
       "    }\n",
       "</style>\n",
       "<table border=\"1\" class=\"dataframe\">\n",
       "  <thead>\n",
       "    <tr style=\"text-align: right;\">\n",
       "      <th></th>\n",
       "      <th>name</th>\n",
       "      <th>code</th>\n",
       "      <th>geometry</th>\n",
       "    </tr>\n",
       "  </thead>\n",
       "  <tbody>\n",
       "    <tr>\n",
       "      <th>0</th>\n",
       "      <td>New Mexico</td>\n",
       "      <td>NM</td>\n",
       "      <td>MULTIPOLYGON (((-109.05017 31.48, -109.04984 3...</td>\n",
       "    </tr>\n",
       "    <tr>\n",
       "      <th>23</th>\n",
       "      <td>South Carolina</td>\n",
       "      <td>SC</td>\n",
       "      <td>MULTIPOLYGON (((-79.50795 33.02008, -79.50713 ...</td>\n",
       "    </tr>\n",
       "    <tr>\n",
       "      <th>15</th>\n",
       "      <td>Indiana</td>\n",
       "      <td>IN</td>\n",
       "      <td>MULTIPOLYGON (((-88.09776 37.90403, -88.09448 ...</td>\n",
       "    </tr>\n",
       "    <tr>\n",
       "      <th>2</th>\n",
       "      <td>California</td>\n",
       "      <td>CA</td>\n",
       "      <td>MULTIPOLYGON (((-118.60441 33.47855, -118.5987...</td>\n",
       "    </tr>\n",
       "    <tr>\n",
       "      <th>44</th>\n",
       "      <td>North Carolina</td>\n",
       "      <td>NC</td>\n",
       "      <td>MULTIPOLYGON (((-75.72681 35.93584, -75.71827 ...</td>\n",
       "    </tr>\n",
       "  </tbody>\n",
       "</table>\n",
       "</div>"
      ]
     },
     "execution_count": 4,
     "metadata": {},
     "output_type": "execute_result"
    }
   ],
   "execution_count": 4
  },
  {
   "metadata": {
    "ExecuteTime": {
     "end_time": "2025-03-15T01:06:31.895238Z",
     "start_time": "2025-03-15T01:06:31.890240Z"
    }
   },
   "cell_type": "code",
   "source": "(states[states['name'] == 'California']['code'])",
   "id": "8c25ab2dd059e641",
   "outputs": [
    {
     "data": {
      "text/plain": [
       "2    CA\n",
       "Name: code, dtype: object"
      ]
     },
     "execution_count": 5,
     "metadata": {},
     "output_type": "execute_result"
    }
   ],
   "execution_count": 5
  },
  {
   "metadata": {
    "ExecuteTime": {
     "end_time": "2025-03-15T01:06:36.892474Z",
     "start_time": "2025-03-15T01:06:31.962647Z"
    }
   },
   "cell_type": "code",
   "source": [
    "query = (pc.field('state') == 'CA')\n",
    "\n",
    "weather = data.query_ghcnd(query)"
   ],
   "id": "abb8c0793c91342b",
   "outputs": [],
   "execution_count": 6
  },
  {
   "metadata": {
    "ExecuteTime": {
     "end_time": "2025-03-15T01:06:36.917334Z",
     "start_time": "2025-03-15T01:06:36.900479Z"
    }
   },
   "cell_type": "code",
   "source": "import h3pandas",
   "id": "a44c511c57929cd4",
   "outputs": [],
   "execution_count": 7
  },
  {
   "metadata": {
    "ExecuteTime": {
     "end_time": "2025-03-15T01:06:45.790498Z",
     "start_time": "2025-03-15T01:06:36.933258Z"
    }
   },
   "cell_type": "code",
   "source": [
    "resolution = 10\n",
    "h3_weather = weather.h3.geo_to_h3(resolution)"
   ],
   "id": "8e8bf81d963174f0",
   "outputs": [],
   "execution_count": 8
  },
  {
   "metadata": {
    "ExecuteTime": {
     "end_time": "2025-03-15T01:06:45.819460Z",
     "start_time": "2025-03-15T01:06:45.808472Z"
    }
   },
   "cell_type": "code",
   "source": "h3_weather",
   "id": "453e70023f2d2b91",
   "outputs": [
    {
     "data": {
      "text/plain": [
       "                  station_id  year  month  day  prcp  snow  snwd   tmax  tmin  \\\n",
       "h3_10                                                                           \n",
       "8a2802b99ceffff  US1CAHM0047  2000      9   22   0.0   0.0   NaN    NaN   NaN   \n",
       "8a291a6dd14ffff  US1CAMT0043  2000      7   15   5.0   NaN   NaN    NaN   NaN   \n",
       "8a28321758d7fff  US1CASA0031  2000      1    1   0.0   0.0   NaN    NaN   NaN   \n",
       "8a28321758d7fff  US1CASA0031  2000      1    2   0.0   0.0   NaN    NaN   NaN   \n",
       "8a28321758d7fff  US1CASA0031  2000      1    3   0.0   0.0   NaN    NaN   NaN   \n",
       "...                      ...   ...    ...  ...   ...   ...   ...    ...   ...   \n",
       "8a2812a74b47fff  USW00094299  2025      3    8   0.0   NaN   NaN  156.0 -83.0   \n",
       "8a2812a74b47fff  USW00094299  2025      3    9   0.0   NaN   NaN  150.0 -56.0   \n",
       "8a2812a74b47fff  USW00094299  2025      3   10   0.0   NaN   NaN  144.0 -56.0   \n",
       "8a2812a74b47fff  USW00094299  2025      3   11   0.0   NaN   NaN  150.0 -67.0   \n",
       "8a2812a74b47fff  USW00094299  2025      3   12  13.0   NaN   NaN  106.0 -11.0   \n",
       "\n",
       "                 awnd  elevation state                   geometry  \n",
       "h3_10                                                              \n",
       "8a2802b99ceffff   NaN      745.5    CA  POINT (-123.9245 40.6578)  \n",
       "8a291a6dd14ffff   NaN       41.8    CA  POINT (-121.9409 36.6027)  \n",
       "8a28321758d7fff   NaN      102.1    CA  POINT (-121.1556 38.6754)  \n",
       "8a28321758d7fff   NaN      102.1    CA  POINT (-121.1556 38.6754)  \n",
       "8a28321758d7fff   NaN      102.1    CA  POINT (-121.1556 38.6754)  \n",
       "...               ...        ...   ...                        ...  \n",
       "8a2812a74b47fff   NaN     1335.9    CA  POINT (-120.5614 41.4836)  \n",
       "8a2812a74b47fff   NaN     1335.9    CA  POINT (-120.5614 41.4836)  \n",
       "8a2812a74b47fff   NaN     1335.9    CA  POINT (-120.5614 41.4836)  \n",
       "8a2812a74b47fff   NaN     1335.9    CA  POINT (-120.5614 41.4836)  \n",
       "8a2812a74b47fff   NaN     1335.9    CA  POINT (-120.5614 41.4836)  \n",
       "\n",
       "[8765739 rows x 13 columns]"
      ],
      "text/html": [
       "<div>\n",
       "<style scoped>\n",
       "    .dataframe tbody tr th:only-of-type {\n",
       "        vertical-align: middle;\n",
       "    }\n",
       "\n",
       "    .dataframe tbody tr th {\n",
       "        vertical-align: top;\n",
       "    }\n",
       "\n",
       "    .dataframe thead th {\n",
       "        text-align: right;\n",
       "    }\n",
       "</style>\n",
       "<table border=\"1\" class=\"dataframe\">\n",
       "  <thead>\n",
       "    <tr style=\"text-align: right;\">\n",
       "      <th></th>\n",
       "      <th>station_id</th>\n",
       "      <th>year</th>\n",
       "      <th>month</th>\n",
       "      <th>day</th>\n",
       "      <th>prcp</th>\n",
       "      <th>snow</th>\n",
       "      <th>snwd</th>\n",
       "      <th>tmax</th>\n",
       "      <th>tmin</th>\n",
       "      <th>awnd</th>\n",
       "      <th>elevation</th>\n",
       "      <th>state</th>\n",
       "      <th>geometry</th>\n",
       "    </tr>\n",
       "    <tr>\n",
       "      <th>h3_10</th>\n",
       "      <th></th>\n",
       "      <th></th>\n",
       "      <th></th>\n",
       "      <th></th>\n",
       "      <th></th>\n",
       "      <th></th>\n",
       "      <th></th>\n",
       "      <th></th>\n",
       "      <th></th>\n",
       "      <th></th>\n",
       "      <th></th>\n",
       "      <th></th>\n",
       "      <th></th>\n",
       "    </tr>\n",
       "  </thead>\n",
       "  <tbody>\n",
       "    <tr>\n",
       "      <th>8a2802b99ceffff</th>\n",
       "      <td>US1CAHM0047</td>\n",
       "      <td>2000</td>\n",
       "      <td>9</td>\n",
       "      <td>22</td>\n",
       "      <td>0.0</td>\n",
       "      <td>0.0</td>\n",
       "      <td>NaN</td>\n",
       "      <td>NaN</td>\n",
       "      <td>NaN</td>\n",
       "      <td>NaN</td>\n",
       "      <td>745.5</td>\n",
       "      <td>CA</td>\n",
       "      <td>POINT (-123.9245 40.6578)</td>\n",
       "    </tr>\n",
       "    <tr>\n",
       "      <th>8a291a6dd14ffff</th>\n",
       "      <td>US1CAMT0043</td>\n",
       "      <td>2000</td>\n",
       "      <td>7</td>\n",
       "      <td>15</td>\n",
       "      <td>5.0</td>\n",
       "      <td>NaN</td>\n",
       "      <td>NaN</td>\n",
       "      <td>NaN</td>\n",
       "      <td>NaN</td>\n",
       "      <td>NaN</td>\n",
       "      <td>41.8</td>\n",
       "      <td>CA</td>\n",
       "      <td>POINT (-121.9409 36.6027)</td>\n",
       "    </tr>\n",
       "    <tr>\n",
       "      <th>8a28321758d7fff</th>\n",
       "      <td>US1CASA0031</td>\n",
       "      <td>2000</td>\n",
       "      <td>1</td>\n",
       "      <td>1</td>\n",
       "      <td>0.0</td>\n",
       "      <td>0.0</td>\n",
       "      <td>NaN</td>\n",
       "      <td>NaN</td>\n",
       "      <td>NaN</td>\n",
       "      <td>NaN</td>\n",
       "      <td>102.1</td>\n",
       "      <td>CA</td>\n",
       "      <td>POINT (-121.1556 38.6754)</td>\n",
       "    </tr>\n",
       "    <tr>\n",
       "      <th>8a28321758d7fff</th>\n",
       "      <td>US1CASA0031</td>\n",
       "      <td>2000</td>\n",
       "      <td>1</td>\n",
       "      <td>2</td>\n",
       "      <td>0.0</td>\n",
       "      <td>0.0</td>\n",
       "      <td>NaN</td>\n",
       "      <td>NaN</td>\n",
       "      <td>NaN</td>\n",
       "      <td>NaN</td>\n",
       "      <td>102.1</td>\n",
       "      <td>CA</td>\n",
       "      <td>POINT (-121.1556 38.6754)</td>\n",
       "    </tr>\n",
       "    <tr>\n",
       "      <th>8a28321758d7fff</th>\n",
       "      <td>US1CASA0031</td>\n",
       "      <td>2000</td>\n",
       "      <td>1</td>\n",
       "      <td>3</td>\n",
       "      <td>0.0</td>\n",
       "      <td>0.0</td>\n",
       "      <td>NaN</td>\n",
       "      <td>NaN</td>\n",
       "      <td>NaN</td>\n",
       "      <td>NaN</td>\n",
       "      <td>102.1</td>\n",
       "      <td>CA</td>\n",
       "      <td>POINT (-121.1556 38.6754)</td>\n",
       "    </tr>\n",
       "    <tr>\n",
       "      <th>...</th>\n",
       "      <td>...</td>\n",
       "      <td>...</td>\n",
       "      <td>...</td>\n",
       "      <td>...</td>\n",
       "      <td>...</td>\n",
       "      <td>...</td>\n",
       "      <td>...</td>\n",
       "      <td>...</td>\n",
       "      <td>...</td>\n",
       "      <td>...</td>\n",
       "      <td>...</td>\n",
       "      <td>...</td>\n",
       "      <td>...</td>\n",
       "    </tr>\n",
       "    <tr>\n",
       "      <th>8a2812a74b47fff</th>\n",
       "      <td>USW00094299</td>\n",
       "      <td>2025</td>\n",
       "      <td>3</td>\n",
       "      <td>8</td>\n",
       "      <td>0.0</td>\n",
       "      <td>NaN</td>\n",
       "      <td>NaN</td>\n",
       "      <td>156.0</td>\n",
       "      <td>-83.0</td>\n",
       "      <td>NaN</td>\n",
       "      <td>1335.9</td>\n",
       "      <td>CA</td>\n",
       "      <td>POINT (-120.5614 41.4836)</td>\n",
       "    </tr>\n",
       "    <tr>\n",
       "      <th>8a2812a74b47fff</th>\n",
       "      <td>USW00094299</td>\n",
       "      <td>2025</td>\n",
       "      <td>3</td>\n",
       "      <td>9</td>\n",
       "      <td>0.0</td>\n",
       "      <td>NaN</td>\n",
       "      <td>NaN</td>\n",
       "      <td>150.0</td>\n",
       "      <td>-56.0</td>\n",
       "      <td>NaN</td>\n",
       "      <td>1335.9</td>\n",
       "      <td>CA</td>\n",
       "      <td>POINT (-120.5614 41.4836)</td>\n",
       "    </tr>\n",
       "    <tr>\n",
       "      <th>8a2812a74b47fff</th>\n",
       "      <td>USW00094299</td>\n",
       "      <td>2025</td>\n",
       "      <td>3</td>\n",
       "      <td>10</td>\n",
       "      <td>0.0</td>\n",
       "      <td>NaN</td>\n",
       "      <td>NaN</td>\n",
       "      <td>144.0</td>\n",
       "      <td>-56.0</td>\n",
       "      <td>NaN</td>\n",
       "      <td>1335.9</td>\n",
       "      <td>CA</td>\n",
       "      <td>POINT (-120.5614 41.4836)</td>\n",
       "    </tr>\n",
       "    <tr>\n",
       "      <th>8a2812a74b47fff</th>\n",
       "      <td>USW00094299</td>\n",
       "      <td>2025</td>\n",
       "      <td>3</td>\n",
       "      <td>11</td>\n",
       "      <td>0.0</td>\n",
       "      <td>NaN</td>\n",
       "      <td>NaN</td>\n",
       "      <td>150.0</td>\n",
       "      <td>-67.0</td>\n",
       "      <td>NaN</td>\n",
       "      <td>1335.9</td>\n",
       "      <td>CA</td>\n",
       "      <td>POINT (-120.5614 41.4836)</td>\n",
       "    </tr>\n",
       "    <tr>\n",
       "      <th>8a2812a74b47fff</th>\n",
       "      <td>USW00094299</td>\n",
       "      <td>2025</td>\n",
       "      <td>3</td>\n",
       "      <td>12</td>\n",
       "      <td>13.0</td>\n",
       "      <td>NaN</td>\n",
       "      <td>NaN</td>\n",
       "      <td>106.0</td>\n",
       "      <td>-11.0</td>\n",
       "      <td>NaN</td>\n",
       "      <td>1335.9</td>\n",
       "      <td>CA</td>\n",
       "      <td>POINT (-120.5614 41.4836)</td>\n",
       "    </tr>\n",
       "  </tbody>\n",
       "</table>\n",
       "<p>8765739 rows × 13 columns</p>\n",
       "</div>"
      ]
     },
     "execution_count": 9,
     "metadata": {},
     "output_type": "execute_result"
    }
   ],
   "execution_count": 9
  },
  {
   "metadata": {
    "ExecuteTime": {
     "end_time": "2025-03-15T01:08:26.451385Z",
     "start_time": "2025-03-15T01:06:45.920298Z"
    }
   },
   "cell_type": "code",
   "source": "h3_weather.plot()",
   "id": "346b7e1037407065",
   "outputs": [
    {
     "data": {
      "text/plain": [
       "<Axes: >"
      ]
     },
     "execution_count": 10,
     "metadata": {},
     "output_type": "execute_result"
    },
    {
     "data": {
      "text/plain": [
       "<Figure size 640x480 with 1 Axes>"
      ],
      "image/png": "[encoded data removed]"
     },
     "metadata": {},
     "output_type": "display_data"
    }
   ],
   "execution_count": 10
  },
  {
   "metadata": {},
   "cell_type": "code",
   "outputs": [],
   "execution_count": null,
   "source": "",
   "id": "dff4c3750979d554"
  }
 ],
 "metadata": {
  "kernelspec": {
   "display_name": "Python 3",
   "language": "python",
   "name": "python3"
  },
  "language_info": {
   "codemirror_mode": {
    "name": "ipython",
    "version": 2
   },
   "file_extension": ".py",
   "mimetype": "text/x-python",
   "name": "python",
   "nbconvert_exporter": "python",
   "pygments_lexer": "ipython2",
   "version": "2.7.6"
  }
 },
 "nbformat": 4,
 "nbformat_minor": 5
}
