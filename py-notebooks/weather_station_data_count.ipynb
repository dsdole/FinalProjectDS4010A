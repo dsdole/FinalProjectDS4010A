{
 "cells": [
  {
   "metadata": {
    "ExecuteTime": {
     "end_time": "2025-03-28T15:05:55.834742Z",
     "start_time": "2025-03-28T15:05:53.167400Z"
    }
   },
   "cell_type": "code",
   "source": [
    "import logging\n",
    "\n",
    "import numpy as np\n",
    "import pandas as pd\n",
    "import geopandas as gpd\n",
    "import pyarrow.compute as pc\n",
    "from matplotlib import pyplot as plt\n",
    "import pyarrow.dataset as ds\n",
    "from shapely.geometry import Point, Polygon, MultiPolygon\n",
    "from scipy.spatial import KDTree\n",
    "\n",
    "from src.datalake import Datalake\n",
    "\n",
    "logging.getLogger('matplotlib.font_manager').setLevel(logging.ERROR)\n",
    "plt.style.use('bmh')\n",
    "\n",
    "\n",
    "def initialize_figure(w: int = 14, h: int = 10) -> any:\n",
    "    return plt.subplots(figsize=(w, h))"
   ],
   "id": "8fbe298a6651de26",
   "outputs": [],
   "execution_count": 1
  },
  {
   "metadata": {
    "ExecuteTime": {
     "end_time": "2025-03-28T15:06:02.125740Z",
     "start_time": "2025-03-28T15:05:55.851517Z"
    }
   },
   "cell_type": "code",
   "source": [
    "data = Datalake(\"../data\")\n",
    "state_geoms = data.query_states()\n",
    "\n",
    "scope_states = [\"California\"]\n",
    "scope_multipoly = state_geoms[state_geoms.name.isin(scope_states)].geometry.iloc[0]\n",
    "stations = data.query_stations()\n",
    "stations = stations[stations.geometry.within(scope_multipoly)]\n",
    "stations[\"num_samples\"] = 0"
   ],
   "id": "ecc2f0ed2476b64",
   "outputs": [],
   "execution_count": 2
  },
  {
   "metadata": {
    "ExecuteTime": {
     "end_time": "2025-03-28T15:06:41.665828Z",
     "start_time": "2025-03-28T15:06:37.887537Z"
    }
   },
   "cell_type": "code",
   "source": [
    "dataset = ds.dataset(data.datalake_root / data.paths[\"ghcnd_clean_daily\"])\n",
    "for i, (row_id, s) in enumerate(stations.iterrows()):\n",
    "    n = dataset.filter(pc.field(\"station_id\") == s.station_id).to_table().num_rows\n",
    "    stations.loc[row_id, \"num_samples\"] = n\n",
    "    print(i, n)"
   ],
   "id": "fd30cea136125574",
   "outputs": [
    {
     "name": "stdout",
     "output_type": "stream",
     "text": [
      "0 360\n",
      "1 0\n",
      "2 366\n",
      "3 352\n",
      "4 29\n",
      "5 0\n",
      "6 0\n",
      "7 0\n",
      "8 366\n",
      "9 0\n",
      "10 0\n",
      "11 0\n",
      "12 36\n",
      "13 0\n",
      "14 0\n",
      "15 28\n",
      "16 355\n",
      "17 363\n",
      "18 0\n",
      "19 0\n",
      "20 0\n",
      "21 303\n"
     ]
    },
    {
     "ename": "KeyboardInterrupt",
     "evalue": "",
     "output_type": "error",
     "traceback": [
      "\u001B[1;31m---------------------------------------------------------------------------\u001B[0m",
      "\u001B[1;31mKeyboardInterrupt\u001B[0m                         Traceback (most recent call last)",
      "Cell \u001B[1;32mIn[4], line 3\u001B[0m\n\u001B[0;32m      1\u001B[0m dataset \u001B[38;5;241m=\u001B[39m ds\u001B[38;5;241m.\u001B[39mdataset(data\u001B[38;5;241m.\u001B[39mdatalake_root \u001B[38;5;241m/\u001B[39m data\u001B[38;5;241m.\u001B[39mpaths[\u001B[38;5;124m\"\u001B[39m\u001B[38;5;124mghcnd_clean_daily\u001B[39m\u001B[38;5;124m\"\u001B[39m])\n\u001B[0;32m      2\u001B[0m \u001B[38;5;28;01mfor\u001B[39;00m i, (row_id, s) \u001B[38;5;129;01min\u001B[39;00m \u001B[38;5;28menumerate\u001B[39m(stations\u001B[38;5;241m.\u001B[39miterrows()):\n\u001B[1;32m----> 3\u001B[0m     n \u001B[38;5;241m=\u001B[39m \u001B[43mdataset\u001B[49m\u001B[38;5;241;43m.\u001B[39;49m\u001B[43mfilter\u001B[49m\u001B[43m(\u001B[49m\u001B[43mpc\u001B[49m\u001B[38;5;241;43m.\u001B[39;49m\u001B[43mfield\u001B[49m\u001B[43m(\u001B[49m\u001B[38;5;124;43m\"\u001B[39;49m\u001B[38;5;124;43mstation_id\u001B[39;49m\u001B[38;5;124;43m\"\u001B[39;49m\u001B[43m)\u001B[49m\u001B[43m \u001B[49m\u001B[38;5;241;43m==\u001B[39;49m\u001B[43m \u001B[49m\u001B[43ms\u001B[49m\u001B[38;5;241;43m.\u001B[39;49m\u001B[43mstation_id\u001B[49m\u001B[43m)\u001B[49m\u001B[38;5;241;43m.\u001B[39;49m\u001B[43mto_table\u001B[49m\u001B[43m(\u001B[49m\u001B[43m)\u001B[49m\u001B[38;5;241m.\u001B[39mnum_rows\n\u001B[0;32m      4\u001B[0m     stations\u001B[38;5;241m.\u001B[39mloc[row_id, \u001B[38;5;124m\"\u001B[39m\u001B[38;5;124mnum_samples\u001B[39m\u001B[38;5;124m\"\u001B[39m] \u001B[38;5;241m=\u001B[39m n\n\u001B[0;32m      5\u001B[0m     \u001B[38;5;28mprint\u001B[39m(i, n)\n",
      "\u001B[1;31mKeyboardInterrupt\u001B[0m: "
     ]
    }
   ],
   "execution_count": 4
  },
  {
   "metadata": {
    "ExecuteTime": {
     "end_time": "2025-03-28T15:06:51.614639Z",
     "start_time": "2025-03-28T15:06:51.607812Z"
    }
   },
   "cell_type": "code",
   "source": "dataset.schema",
   "id": "3b23dede4f25c52e",
   "outputs": [
    {
     "data": {
      "text/plain": [
       "station_id: string\n",
       "year: int32\n",
       "month: int32\n",
       "day: int32\n",
       "prcp: double\n",
       "snow: double\n",
       "snwd: double\n",
       "tmax: double\n",
       "tmin: double\n",
       "awnd: double\n",
       "elevation: double\n",
       "geometry: binary\n",
       "  -- field metadata --\n",
       "  ARROW:extension:name: 'geoarrow.wkb'\n",
       "  ARROW:extension:metadata: '{\"crs\": \"{\\\"$schema\\\":\\\"https://proj.org/sch' + 1587\n",
       "-- schema metadata --\n",
       "pandas: '{\"index_columns\": [{\"kind\": \"range\", \"name\": null, \"start\": 0, \"' + 1587\n",
       "geo: '{\"primary_column\": \"geometry\", \"columns\": {\"geometry\": {\"encoding\":' + 1362"
      ]
     },
     "execution_count": 7,
     "metadata": {},
     "output_type": "execute_result"
    }
   ],
   "execution_count": 7
  },
  {
   "metadata": {},
   "cell_type": "code",
   "outputs": [],
   "execution_count": null,
   "source": "",
   "id": "fee01d66c500124f"
  }
 ],
 "metadata": {
  "kernelspec": {
   "display_name": "Python 3",
   "language": "python",
   "name": "python3"
  },
  "language_info": {
   "codemirror_mode": {
    "name": "ipython",
    "version": 2
   },
   "file_extension": ".py",
   "mimetype": "text/x-python",
   "name": "python",
   "nbconvert_exporter": "python",
   "pygments_lexer": "ipython2",
   "version": "2.7.6"
  }
 },
 "nbformat": 4,
 "nbformat_minor": 5
}
