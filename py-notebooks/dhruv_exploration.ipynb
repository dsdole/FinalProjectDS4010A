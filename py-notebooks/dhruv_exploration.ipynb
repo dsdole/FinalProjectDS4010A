{
 "cells": [
  {
   "cell_type": "code",
   "id": "initial_id",
   "metadata": {
    "collapsed": true
   },
   "source": [
    "from pathlib import Path\n",
    "\n",
    "import pyarrow.compute as pc\n",
    "import pandas as pd\n",
    "import geopandas as gpd\n",
    "\n",
    "from ghcnd.utils import GHCND"
   ],
   "outputs": [],
   "execution_count": null
  },
  {
   "metadata": {},
   "cell_type": "code",
   "source": [
    "ghcnd = GHCND()\n",
    "downloads = Path('C:/Users/Dhruv/Downloads')"
   ],
   "id": "5180552d5d0a10b8",
   "outputs": [],
   "execution_count": null
  },
  {
   "metadata": {},
   "cell_type": "code",
   "source": [
    "# Count the maximum memory usage of all the datafiles\n",
    "mem_usage = []\n",
    "years = range(1900, 2025+1)\n",
    "for year in years:\n",
    "    query = pc.field('year') == year\n",
    "    mem_usage.append(ghcnd.query(query).memory_usage(deep=True))\n",
    "\n",
    "mem_usage = pd.DataFrame(mem_usage, index=years)\n",
    "f'NOAA GHCND Max Memory Usage: {mem_usage.sum().sum() / 10 ** 9} GB'"
   ],
   "id": "e35df10dbe249ae9",
   "outputs": [],
   "execution_count": null
  },
  {
   "metadata": {},
   "cell_type": "code",
   "source": [
    "# Define a pyarrow filter expression:\n",
    "# get all records from CHICAGO OHARE AIRPORT in 2010\n",
    "# ohare_station_id = 'USW00094846'\n",
    "# query = (pc.field('station_id') == ohare_station_id) & (pc.field('year') == 2010)\n",
    "query = pc.field('year') == 2021\n",
    "# query the data using the helper function\n",
    "data = ghcnd.query(query)\n"
   ],
   "id": "d62364b8f89e21db",
   "outputs": [],
   "execution_count": null
  },
  {
   "metadata": {},
   "cell_type": "code",
   "source": "data.memory_usage(deep=True).sum() / 10 ** 9",
   "id": "1b7a765c1ef4d940",
   "outputs": [],
   "execution_count": null
  },
  {
   "metadata": {},
   "cell_type": "code",
   "source": "gdf = gpd.GeoDataFrame(data, geometry=gpd.points_from_xy(data.latitude, data.longitude), crs='EPSG:4326')\n",
   "id": "17a905573d262c06",
   "outputs": [],
   "execution_count": null
  },
  {
   "metadata": {},
   "cell_type": "code",
   "source": "gdf",
   "id": "1671f75d9d5303e5",
   "outputs": [],
   "execution_count": null
  }
 ],
 "metadata": {
  "kernelspec": {
   "display_name": "Python 3",
   "language": "python",
   "name": "python3"
  },
  "language_info": {
   "codemirror_mode": {
    "name": "ipython",
    "version": 2
   },
   "file_extension": ".py",
   "mimetype": "text/x-python",
   "name": "python",
   "nbconvert_exporter": "python",
   "pygments_lexer": "ipython2",
   "version": "2.7.6"
  }
 },
 "nbformat": 4,
 "nbformat_minor": 5
}
