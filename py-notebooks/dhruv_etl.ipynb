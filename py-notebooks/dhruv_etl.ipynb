{
 "cells": [
  {
   "cell_type": "code",
   "id": "initial_id",
   "metadata": {
    "collapsed": true,
    "ExecuteTime": {
     "end_time": "2025-03-11T21:09:32.260149Z",
     "start_time": "2025-03-11T21:09:32.257152Z"
    }
   },
   "source": [
    "import os\n",
    "import zipfile\n",
    "from pathlib import Path\n",
    "\n",
    "import pyarrow as pa\n",
    "import pyarrow.parquet as pq\n",
    "import pyarrow.compute as pc\n",
    "\n",
    "import pandas as pd\n",
    "import geopandas as gpd\n",
    "\n",
    "from matplotlib import pyplot as plt\n",
    "\n",
    "from src.datalake import Datalake"
   ],
   "outputs": [],
   "execution_count": 20
  },
  {
   "metadata": {
    "ExecuteTime": {
     "end_time": "2025-03-11T21:09:33.146462Z",
     "start_time": "2025-03-11T21:09:32.265155Z"
    }
   },
   "cell_type": "code",
   "source": [
    "data = Datalake('../lake')\n",
    "states = data.query_states()\n",
    "fire_point = data.query_fire_point()\n",
    "fire_perimeter = data.query_fire_perimeter()\n",
    "# ghcnd = data.query_ghcnd()\n"
   ],
   "id": "f989dabdc20e0780",
   "outputs": [],
   "execution_count": 21
  },
  {
   "metadata": {
    "ExecuteTime": {
     "end_time": "2025-03-11T21:09:33.160504Z",
     "start_time": "2025-03-11T21:09:33.158505Z"
    }
   },
   "cell_type": "code",
   "source": [
    "# cali_geom = states[states['name'] == 'California'].reset_index(drop=True).iloc[0]['geometry']\n",
    "# cali_fire_perim = fire_perimeter[fire_perimeter.geometry.within(cali_geom)]"
   ],
   "id": "e56c87f59fe75e65",
   "outputs": [],
   "execution_count": 22
  },
  {
   "metadata": {
    "ExecuteTime": {
     "end_time": "2025-03-11T21:09:33.176617Z",
     "start_time": "2025-03-11T21:09:33.173613Z"
    }
   },
   "cell_type": "code",
   "source": [
    "# fig, ax = plt.subplots(figsize=(20,20), dpi = 400)\n",
    "# states[states['name'] == 'California'].plot(ax=ax, color='blue', edgecolor='k', alpha=0.2)\n",
    "# cali_fire_perim.plot(ax=ax, color='red', edgecolor='k', alpha=0.5)\n",
    "# plt.show()"
   ],
   "id": "31884c3774891b66",
   "outputs": [],
   "execution_count": 23
  },
  {
   "metadata": {
    "ExecuteTime": {
     "end_time": "2025-03-11T21:09:33.189897Z",
     "start_time": "2025-03-11T21:09:33.186893Z"
    }
   },
   "cell_type": "code",
   "source": "# fire_point = data.query_fire_point()",
   "id": "624081e1299ead3d",
   "outputs": [],
   "execution_count": 24
  },
  {
   "metadata": {
    "ExecuteTime": {
     "end_time": "2025-03-11T21:09:33.203492Z",
     "start_time": "2025-03-11T21:09:33.201491Z"
    }
   },
   "cell_type": "code",
   "source": [
    "# fig, ax = plt.subplots(figsize=(20,20), dpi = 400)\n",
    "# states.plot(ax=ax, color='blue', edgecolor='k', alpha=0.2)\n",
    "# fire_point.plot(ax=ax, color='red', edgecolor='k', alpha=0.5)\n",
    "# plt.show()"
   ],
   "id": "65f00db1cfdf8546",
   "outputs": [],
   "execution_count": 25
  },
  {
   "metadata": {
    "ExecuteTime": {
     "end_time": "2025-03-11T21:09:33.317873Z",
     "start_time": "2025-03-11T21:09:33.215361Z"
    }
   },
   "cell_type": "code",
   "source": "(fire_point.isnull().sum()/len(fire_point)*100).sort_values(ascending=False)",
   "id": "3b880ba17ddd36f7",
   "outputs": [
    {
     "data": {
      "text/plain": [
       "FIREOCCURID         84.469711\n",
       "COMMENTS            80.625361\n",
       "CN                  55.791194\n",
       "UNIQFIREID          30.654250\n",
       "FIRENAME             4.968784\n",
       "TOTALACRES           0.432403\n",
       "FIRETYPECATEGORY     0.110117\n",
       "STATCAUSE            0.106928\n",
       "SIZECLASS            0.074287\n",
       "PERIMEXISTS          0.056653\n",
       "OBJECTID             0.000000\n",
       "geometry             0.000000\n",
       "year                 0.000000\n",
       "month                0.000000\n",
       "day                  0.000000\n",
       "dtype: float64"
      ]
     },
     "execution_count": 26,
     "metadata": {},
     "output_type": "execute_result"
    }
   ],
   "execution_count": 26
  },
  {
   "metadata": {
    "ExecuteTime": {
     "end_time": "2025-03-11T21:09:33.357281Z",
     "start_time": "2025-03-11T21:09:33.345768Z"
    }
   },
   "cell_type": "code",
   "source": "(fire_perimeter.isnull().sum()/len(fire_point)*100).sort_values(ascending=False)",
   "id": "4fbd4e3a82a43ecb",
   "outputs": [
    {
     "data": {
      "text/plain": [
       "SHAPE                2.711286\n",
       "COMPLEXNAME          2.621054\n",
       "ACCURACY             2.590476\n",
       "PERIMETERDATETIME    1.982111\n",
       "FIREOCCURID          1.903509\n",
       "UNITIDPROTECT        1.310339\n",
       "UNITIDOWNER          1.243744\n",
       "COMMENTS             1.062716\n",
       "SOFIRENUM            0.937216\n",
       "LOCALFIRENUM         0.902324\n",
       "PROTECTIONAGENCY     0.882439\n",
       "UNIQFIREID           0.852799\n",
       "CN                   0.802712\n",
       "DISCOVERYDATETIME    0.664268\n",
       "SECURITYID           0.508941\n",
       "GLOBALID             0.260942\n",
       "OWNERAGENCY          0.239744\n",
       "FIRERPTQC            0.178401\n",
       "REVDATE              0.100738\n",
       "TOTALACRES           0.084042\n",
       "DATASOURCE           0.083479\n",
       "STATCAUSE            0.075413\n",
       "SIZECLASS            0.047461\n",
       "GISACRES             0.028889\n",
       "FEATURECAT           0.027576\n",
       "FIRENAME             0.012569\n",
       "FIREYEAR             0.000375\n",
       "OBJECTID             0.000000\n",
       "DBSOURCEID           0.000000\n",
       "DBSOURCEDATE         0.000000\n",
       "SHAPEAREA            0.000000\n",
       "SHAPELEN             0.000000\n",
       "geometry             0.000000\n",
       "dtype: float64"
      ]
     },
     "execution_count": 27,
     "metadata": {},
     "output_type": "execute_result"
    }
   ],
   "execution_count": 27
  }
 ],
 "metadata": {
  "kernelspec": {
   "display_name": "Python 3",
   "language": "python",
   "name": "python3"
  },
  "language_info": {
   "codemirror_mode": {
    "name": "ipython",
    "version": 2
   },
   "file_extension": ".py",
   "mimetype": "text/x-python",
   "name": "python",
   "nbconvert_exporter": "python",
   "pygments_lexer": "ipython2",
   "version": "2.7.6"
  }
 },
 "nbformat": 4,
 "nbformat_minor": 5
}
