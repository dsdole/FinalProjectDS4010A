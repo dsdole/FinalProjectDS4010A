{
 "cells": [
  {
   "metadata": {},
   "cell_type": "code",
   "outputs": [],
   "execution_count": null,
   "source": [
    "import pyarrow.compute as pc\n",
    "\n",
    "from ghcnd.utils import GHCND"
   ],
   "id": "ad044ce211be8123"
  },
  {
   "metadata": {},
   "cell_type": "code",
   "source": [
    "ghcnd = GHCND()\n",
    "\n",
    "# Define a pyarrow filter expression\n",
    "\n",
    "# get all records from CHICAGO OHARE AIRPORT in 2010\n",
    "ohare_station_id = 'USW00094846'\n",
    "query = (pc.field('station_id') == ohare_station_id) & (pc.field('year') == 2010)\n",
    "\n",
    "# query the data using the helper function\n",
    "ohare = ghcnd.query(query)"
   ],
   "id": "5f4c70c39a37fb74",
   "outputs": [],
   "execution_count": null
  },
  {
   "metadata": {},
   "cell_type": "code",
   "outputs": [],
   "execution_count": null,
   "source": "ohare",
   "id": "26e371179dda3ecf"
  }
 ],
 "metadata": {
  "kernelspec": {
   "display_name": "Python 3",
   "language": "python",
   "name": "python3"
  },
  "language_info": {
   "codemirror_mode": {
    "name": "ipython",
    "version": 2
   },
   "file_extension": ".py",
   "mimetype": "text/x-python",
   "name": "python",
   "nbconvert_exporter": "python",
   "pygments_lexer": "ipython2",
   "version": "2.7.6"
  }
 },
 "nbformat": 4,
 "nbformat_minor": 5
}
