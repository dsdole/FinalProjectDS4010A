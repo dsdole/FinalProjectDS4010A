{
 "cells": [
  {
   "metadata": {},
   "cell_type": "markdown",
   "source": "# GHCN-Daily Query Tutorial",
   "id": "6d40df939f650ce2"
  },
  {
   "metadata": {},
   "cell_type": "markdown",
   "source": [
    "The dataset can be created by via CLI or by calling a python function.\n",
    "```bash\n",
    "# This takes an absolute or relative path.\n",
    "# Powershell example from project root\n",
    "python .\\src\\ghcnd.py data 1750 2025\n",
    "```"
   ],
   "id": "1c462ccd513c96f2"
  },
  {
   "metadata": {
    "ExecuteTime": {
     "end_time": "2025-02-21T16:20:09.599984Z",
     "start_time": "2025-02-21T16:20:09.596016Z"
    }
   },
   "cell_type": "code",
   "source": [
    "from pathlib import Path\n",
    "\n",
    "import ghcnd\n",
    "\n",
    "# Python example, executes relative to working dir:\n",
    "datalake_root = Path('../data/ghcnd')\n",
    "start_year = 1750\n",
    "end_year = 2025"
   ],
   "id": "342473999e2152ad",
   "outputs": [],
   "execution_count": 4
  },
  {
   "metadata": {
    "ExecuteTime": {
     "end_time": "2025-02-21T16:20:09.634294Z",
     "start_time": "2025-02-21T16:20:09.627994Z"
    }
   },
   "cell_type": "code",
   "source": "ghcnd.build_datalake(datalake_root, start_year, end_year)",
   "id": "b282e236d7d914f0",
   "outputs": [
    {
     "name": "stdout",
     "output_type": "stream",
     "text": [
      "WARNING: Existing dataset detected, set overwrite=True to overwrite. Exiting!\n"
     ]
    },
    {
     "data": {
      "text/plain": [
       "0"
      ]
     },
     "execution_count": 5,
     "metadata": {},
     "output_type": "execute_result"
    }
   ],
   "execution_count": 5
  },
  {
   "metadata": {},
   "cell_type": "markdown",
   "source": "To access data on weather stations(ids, locations...)",
   "id": "d88bcb4321445e18"
  },
  {
   "metadata": {
    "ExecuteTime": {
     "end_time": "2025-02-21T16:20:09.879546Z",
     "start_time": "2025-02-21T16:20:09.705500Z"
    }
   },
   "cell_type": "code",
   "source": [
    "import pandas as pd\n",
    "\n",
    "stations = pd.read_parquet(datalake_root / 'clean' / 'stations.parquet')\n",
    "stations.head()"
   ],
   "id": "6c3187693e0609bc",
   "outputs": [
    {
     "data": {
      "text/plain": [
       "    station_id  latitude  longitude  elevation                   name\n",
       "0  ACW00011604   17.1167   -61.7833       10.1  ST JOHNS COOLIDGE FLD\n",
       "1  ACW00011647   17.1333   -61.7833       19.2               ST JOHNS\n",
       "2  AE000041196   25.3330    55.5170       34.0    SHARJAH INTER. AIRP\n",
       "3  AEM00041194   25.2550    55.3640       10.4             DUBAI INTL\n",
       "4  AEM00041217   24.4330    54.6510       26.8         ABU DHABI INTL"
      ],
      "text/html": [
       "<div>\n",
       "<style scoped>\n",
       "    .dataframe tbody tr th:only-of-type {\n",
       "        vertical-align: middle;\n",
       "    }\n",
       "\n",
       "    .dataframe tbody tr th {\n",
       "        vertical-align: top;\n",
       "    }\n",
       "\n",
       "    .dataframe thead th {\n",
       "        text-align: right;\n",
       "    }\n",
       "</style>\n",
       "<table border=\"1\" class=\"dataframe\">\n",
       "  <thead>\n",
       "    <tr style=\"text-align: right;\">\n",
       "      <th></th>\n",
       "      <th>station_id</th>\n",
       "      <th>latitude</th>\n",
       "      <th>longitude</th>\n",
       "      <th>elevation</th>\n",
       "      <th>name</th>\n",
       "    </tr>\n",
       "  </thead>\n",
       "  <tbody>\n",
       "    <tr>\n",
       "      <th>0</th>\n",
       "      <td>ACW00011604</td>\n",
       "      <td>17.1167</td>\n",
       "      <td>-61.7833</td>\n",
       "      <td>10.1</td>\n",
       "      <td>ST JOHNS COOLIDGE FLD</td>\n",
       "    </tr>\n",
       "    <tr>\n",
       "      <th>1</th>\n",
       "      <td>ACW00011647</td>\n",
       "      <td>17.1333</td>\n",
       "      <td>-61.7833</td>\n",
       "      <td>19.2</td>\n",
       "      <td>ST JOHNS</td>\n",
       "    </tr>\n",
       "    <tr>\n",
       "      <th>2</th>\n",
       "      <td>AE000041196</td>\n",
       "      <td>25.3330</td>\n",
       "      <td>55.5170</td>\n",
       "      <td>34.0</td>\n",
       "      <td>SHARJAH INTER. AIRP</td>\n",
       "    </tr>\n",
       "    <tr>\n",
       "      <th>3</th>\n",
       "      <td>AEM00041194</td>\n",
       "      <td>25.2550</td>\n",
       "      <td>55.3640</td>\n",
       "      <td>10.4</td>\n",
       "      <td>DUBAI INTL</td>\n",
       "    </tr>\n",
       "    <tr>\n",
       "      <th>4</th>\n",
       "      <td>AEM00041217</td>\n",
       "      <td>24.4330</td>\n",
       "      <td>54.6510</td>\n",
       "      <td>26.8</td>\n",
       "      <td>ABU DHABI INTL</td>\n",
       "    </tr>\n",
       "  </tbody>\n",
       "</table>\n",
       "</div>"
      ]
     },
     "execution_count": 6,
     "metadata": {},
     "output_type": "execute_result"
    }
   ],
   "execution_count": 6
  },
  {
   "metadata": {},
   "cell_type": "markdown",
   "source": "To access the actual weather data",
   "id": "b52f8fcf973ca2a9"
  },
  {
   "metadata": {
    "ExecuteTime": {
     "end_time": "2025-02-21T16:20:10.033496Z",
     "start_time": "2025-02-21T16:20:09.935276Z"
    }
   },
   "cell_type": "code",
   "source": [
    "import pyarrow.dataset as ds\n",
    "\n",
    "# Allows querying all cleaned files\n",
    "daily_ds = ds.dataset(datalake_root / 'clean' / 'daily')\n",
    "\n",
    "# Print the data schema: each line defines a column\n",
    "print(daily_ds.schema)"
   ],
   "id": "ad044ce211be8123",
   "outputs": [
    {
     "ename": "FileNotFoundError",
     "evalue": "../data/ghcnd/clean/daily",
     "output_type": "error",
     "traceback": [
      "\u001B[0;31m---------------------------------------------------------------------------\u001B[0m",
      "\u001B[0;31mFileNotFoundError\u001B[0m                         Traceback (most recent call last)",
      "Cell \u001B[0;32mIn[7], line 4\u001B[0m\n\u001B[1;32m      1\u001B[0m \u001B[38;5;28;01mimport\u001B[39;00m\u001B[38;5;250m \u001B[39m\u001B[38;5;21;01mpyarrow\u001B[39;00m\u001B[38;5;21;01m.\u001B[39;00m\u001B[38;5;21;01mdataset\u001B[39;00m\u001B[38;5;250m \u001B[39m\u001B[38;5;28;01mas\u001B[39;00m\u001B[38;5;250m \u001B[39m\u001B[38;5;21;01mds\u001B[39;00m\n\u001B[1;32m      3\u001B[0m \u001B[38;5;66;03m# Allows querying all cleaned files\u001B[39;00m\n\u001B[0;32m----> 4\u001B[0m daily_ds \u001B[38;5;241m=\u001B[39m \u001B[43mds\u001B[49m\u001B[38;5;241;43m.\u001B[39;49m\u001B[43mdataset\u001B[49m\u001B[43m(\u001B[49m\u001B[43mdatalake_root\u001B[49m\u001B[43m \u001B[49m\u001B[38;5;241;43m/\u001B[39;49m\u001B[43m \u001B[49m\u001B[38;5;124;43m'\u001B[39;49m\u001B[38;5;124;43mclean\u001B[39;49m\u001B[38;5;124;43m'\u001B[39;49m\u001B[43m \u001B[49m\u001B[38;5;241;43m/\u001B[39;49m\u001B[43m \u001B[49m\u001B[38;5;124;43m'\u001B[39;49m\u001B[38;5;124;43mdaily\u001B[39;49m\u001B[38;5;124;43m'\u001B[39;49m\u001B[43m)\u001B[49m\n\u001B[1;32m      6\u001B[0m \u001B[38;5;66;03m# Print the data schema: each line defines a column\u001B[39;00m\n\u001B[1;32m      7\u001B[0m \u001B[38;5;28mprint\u001B[39m(daily_ds\u001B[38;5;241m.\u001B[39mschema)\n",
      "File \u001B[0;32m~/things/_s/ds401/.venv/lib/python3.13/site-packages/pyarrow/dataset.py:794\u001B[0m, in \u001B[0;36mdataset\u001B[0;34m(source, schema, format, filesystem, partitioning, partition_base_dir, exclude_invalid_files, ignore_prefixes)\u001B[0m\n\u001B[1;32m    783\u001B[0m kwargs \u001B[38;5;241m=\u001B[39m \u001B[38;5;28mdict\u001B[39m(\n\u001B[1;32m    784\u001B[0m     schema\u001B[38;5;241m=\u001B[39mschema,\n\u001B[1;32m    785\u001B[0m     filesystem\u001B[38;5;241m=\u001B[39mfilesystem,\n\u001B[0;32m   (...)\u001B[0m\n\u001B[1;32m    790\u001B[0m     selector_ignore_prefixes\u001B[38;5;241m=\u001B[39mignore_prefixes\n\u001B[1;32m    791\u001B[0m )\n\u001B[1;32m    793\u001B[0m \u001B[38;5;28;01mif\u001B[39;00m _is_path_like(source):\n\u001B[0;32m--> 794\u001B[0m     \u001B[38;5;28;01mreturn\u001B[39;00m \u001B[43m_filesystem_dataset\u001B[49m\u001B[43m(\u001B[49m\u001B[43msource\u001B[49m\u001B[43m,\u001B[49m\u001B[43m \u001B[49m\u001B[38;5;241;43m*\u001B[39;49m\u001B[38;5;241;43m*\u001B[39;49m\u001B[43mkwargs\u001B[49m\u001B[43m)\u001B[49m\n\u001B[1;32m    795\u001B[0m \u001B[38;5;28;01melif\u001B[39;00m \u001B[38;5;28misinstance\u001B[39m(source, (\u001B[38;5;28mtuple\u001B[39m, \u001B[38;5;28mlist\u001B[39m)):\n\u001B[1;32m    796\u001B[0m     \u001B[38;5;28;01mif\u001B[39;00m \u001B[38;5;28mall\u001B[39m(_is_path_like(elem) \u001B[38;5;129;01mor\u001B[39;00m \u001B[38;5;28misinstance\u001B[39m(elem, FileInfo) \u001B[38;5;28;01mfor\u001B[39;00m elem \u001B[38;5;129;01min\u001B[39;00m source):\n",
      "File \u001B[0;32m~/things/_s/ds401/.venv/lib/python3.13/site-packages/pyarrow/dataset.py:476\u001B[0m, in \u001B[0;36m_filesystem_dataset\u001B[0;34m(source, schema, filesystem, partitioning, format, partition_base_dir, exclude_invalid_files, selector_ignore_prefixes)\u001B[0m\n\u001B[1;32m    474\u001B[0m         fs, paths_or_selector \u001B[38;5;241m=\u001B[39m _ensure_multiple_sources(source, filesystem)\n\u001B[1;32m    475\u001B[0m \u001B[38;5;28;01melse\u001B[39;00m:\n\u001B[0;32m--> 476\u001B[0m     fs, paths_or_selector \u001B[38;5;241m=\u001B[39m \u001B[43m_ensure_single_source\u001B[49m\u001B[43m(\u001B[49m\u001B[43msource\u001B[49m\u001B[43m,\u001B[49m\u001B[43m \u001B[49m\u001B[43mfilesystem\u001B[49m\u001B[43m)\u001B[49m\n\u001B[1;32m    478\u001B[0m options \u001B[38;5;241m=\u001B[39m FileSystemFactoryOptions(\n\u001B[1;32m    479\u001B[0m     partitioning\u001B[38;5;241m=\u001B[39mpartitioning,\n\u001B[1;32m    480\u001B[0m     partition_base_dir\u001B[38;5;241m=\u001B[39mpartition_base_dir,\n\u001B[1;32m    481\u001B[0m     exclude_invalid_files\u001B[38;5;241m=\u001B[39mexclude_invalid_files,\n\u001B[1;32m    482\u001B[0m     selector_ignore_prefixes\u001B[38;5;241m=\u001B[39mselector_ignore_prefixes\n\u001B[1;32m    483\u001B[0m )\n\u001B[1;32m    484\u001B[0m factory \u001B[38;5;241m=\u001B[39m FileSystemDatasetFactory(fs, paths_or_selector, \u001B[38;5;28mformat\u001B[39m, options)\n",
      "File \u001B[0;32m~/things/_s/ds401/.venv/lib/python3.13/site-packages/pyarrow/dataset.py:441\u001B[0m, in \u001B[0;36m_ensure_single_source\u001B[0;34m(path, filesystem)\u001B[0m\n\u001B[1;32m    439\u001B[0m     paths_or_selector \u001B[38;5;241m=\u001B[39m [path]\n\u001B[1;32m    440\u001B[0m \u001B[38;5;28;01melse\u001B[39;00m:\n\u001B[0;32m--> 441\u001B[0m     \u001B[38;5;28;01mraise\u001B[39;00m \u001B[38;5;167;01mFileNotFoundError\u001B[39;00m(path)\n\u001B[1;32m    443\u001B[0m \u001B[38;5;28;01mreturn\u001B[39;00m filesystem, paths_or_selector\n",
      "\u001B[0;31mFileNotFoundError\u001B[0m: ../data/ghcnd/clean/daily"
     ]
    }
   ],
   "execution_count": 7
  },
  {
   "metadata": {},
   "cell_type": "markdown",
   "source": "**Example Query**: Get all precipitation(PRCP) data in 2008",
   "id": "628f6032b7fd212b"
  },
  {
   "metadata": {},
   "cell_type": "code",
   "source": [
    "import pyarrow.compute as pc\n",
    "\n",
    "# Define the Filter\n",
    "filter = (pc.field('year') == 2008) & (pc.field('element') == 'PRCP')\n",
    "\n",
    "filtered_dataframe = daily_ds.filter(filter).to_table().to_pandas()\n",
    "filtered_dataframe"
   ],
   "id": "5f4c70c39a37fb74",
   "outputs": [],
   "execution_count": null
  }
 ],
 "metadata": {
  "kernelspec": {
   "display_name": "Python 3",
   "language": "python",
   "name": "python3"
  },
  "language_info": {
   "codemirror_mode": {
    "name": "ipython",
    "version": 2
   },
   "file_extension": ".py",
   "mimetype": "text/x-python",
   "name": "python",
   "nbconvert_exporter": "python",
   "pygments_lexer": "ipython2",
   "version": "2.7.6"
  }
 },
 "nbformat": 4,
 "nbformat_minor": 5
}
