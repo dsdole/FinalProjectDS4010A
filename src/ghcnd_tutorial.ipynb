{
 "cells": [
  {
   "metadata": {},
   "cell_type": "markdown",
   "source": "# GHCN-Daily Query Tutorial",
   "id": "6d40df939f650ce2"
  },
  {
   "metadata": {},
   "cell_type": "markdown",
   "source": [
    "The dataset can be created by via CLI or by calling a python function.\n",
    "```bash\n",
    "# This takes an absolute or relative path.\n",
    "# Powershell example from project root\n",
    "python .\\src\\ghcnd.py data 1750 2025\n",
    "```"
   ],
   "id": "1c462ccd513c96f2"
  },
  {
   "metadata": {},
   "cell_type": "code",
   "source": [
    "from pathlib import Path\n",
    "\n",
    "import ghcnd\n",
    "\n",
    "# Python example, executes relative to working dir:\n",
    "datalake_root = Path('../data/ghcnd')\n",
    "start_year = 1750\n",
    "end_year = 2025\n",
    "\n",
    "ghcnd.build_datalake(datalake_root, start_year, end_year)"
   ],
   "id": "b282e236d7d914f0",
   "outputs": [],
   "execution_count": null
  },
  {
   "metadata": {},
   "cell_type": "markdown",
   "source": "To access data on weather stations(ids, locations...)",
   "id": "d88bcb4321445e18"
  },
  {
   "metadata": {},
   "cell_type": "code",
   "source": [
    "import pandas as pd\n",
    "\n",
    "stations = pd.read_parquet(datalake_root / 'clean' / 'stations.parquet')\n",
    "stations.head()"
   ],
   "id": "6c3187693e0609bc",
   "outputs": [],
   "execution_count": null
  },
  {
   "metadata": {},
   "cell_type": "markdown",
   "source": "To access the actual weather data",
   "id": "b52f8fcf973ca2a9"
  },
  {
   "metadata": {},
   "cell_type": "code",
   "source": [
    "import pyarrow.dataset as ds\n",
    "\n",
    "# Allows querying all cleaned files\n",
    "daily_ds = ds.dataset(datalake_root / 'clean' / 'daily')\n",
    "\n",
    "# Print the data schema: each line defines a column\n",
    "print(daily_ds.schema)"
   ],
   "id": "ad044ce211be8123",
   "outputs": [],
   "execution_count": null
  },
  {
   "metadata": {},
   "cell_type": "markdown",
   "source": "**Example Query**: Get all precipitation(PRCP) data in 2008",
   "id": "628f6032b7fd212b"
  },
  {
   "metadata": {},
   "cell_type": "code",
   "source": [
    "import pyarrow.compute as pc\n",
    "\n",
    "# Define the Filter\n",
    "filter = (pc.field('year') == 2008) & (pc.field('element') == 'PRCP')\n",
    "\n",
    "filtered_dataframe = daily_ds.filter(filter).to_table().to_pandas()\n",
    "filtered_dataframe"
   ],
   "id": "5f4c70c39a37fb74",
   "outputs": [],
   "execution_count": null
  }
 ],
 "metadata": {
  "kernelspec": {
   "display_name": "Python 3",
   "language": "python",
   "name": "python3"
  },
  "language_info": {
   "codemirror_mode": {
    "name": "ipython",
    "version": 2
   },
   "file_extension": ".py",
   "mimetype": "text/x-python",
   "name": "python",
   "nbconvert_exporter": "python",
   "pygments_lexer": "ipython2",
   "version": "2.7.6"
  }
 },
 "nbformat": 4,
 "nbformat_minor": 5
}
